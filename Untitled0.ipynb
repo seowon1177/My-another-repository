{
  "nbformat": 4,
  "nbformat_minor": 0,
  "metadata": {
    "colab": {
      "provenance": [],
      "authorship_tag": "ABX9TyMQZ3zqRoKCcL0t/Hq6jeAG",
      "include_colab_link": true
    },
    "kernelspec": {
      "name": "python3",
      "display_name": "Python 3"
    },
    "language_info": {
      "name": "python"
    }
  },
  "cells": [
    {
      "cell_type": "markdown",
      "metadata": {
        "id": "view-in-github",
        "colab_type": "text"
      },
      "source": [
        "<a href=\"https://colab.research.google.com/github/seowon1177/My-another-repository/blob/main/Untitled0.ipynb\" target=\"_parent\"><img src=\"https://colab.research.google.com/assets/colab-badge.svg\" alt=\"Open In Colab\"/></a>"
      ]
    },
    {
      "cell_type": "markdown",
      "source": [
        "버블 정렬은 다른 정렬에 비해서는 느린 편이다."
      ],
      "metadata": {
        "id": "IbZtXri5O4co"
      }
    },
    {
      "cell_type": "code",
      "execution_count": null,
      "metadata": {
        "colab": {
          "base_uri": "https://localhost:8080/"
        },
        "id": "tPVsIhX4MT9J",
        "outputId": "ce4edaa9-324e-493c-c4a6-bf54f32224ea"
      },
      "outputs": [
        {
          "output_type": "stream",
          "name": "stdout",
          "text": [
            "원본 리스트 : [3, 4, 5, 10, 9, 1]\n",
            "정렬 후 리스트 : [1, 3, 4, 5, 9, 10]\n"
          ]
        }
      ],
      "source": [
        "list = [3,4,5,10,9,1]\n",
        "\n",
        "print(\"원본 리스트 :\", list)\n",
        "\n",
        "for i in range(len(list) - 1):\n",
        "  for j in range(len(list) - 1):\n",
        "    if(list[j] > list[j+1]):\n",
        "      temp = list[j]\n",
        "      list[j] = list[j+1]\n",
        "      list[j+1] = temp\n",
        "\n",
        "print(\"정렬 후 리스트 :\", list)"
      ]
    },
    {
      "cell_type": "code",
      "source": [
        "from google.colab import drive\n",
        "drive.mount('/gdrive', force_remount = True)"
      ],
      "metadata": {
        "colab": {
          "base_uri": "https://localhost:8080/"
        },
        "id": "dV68bxHPaNmr",
        "outputId": "2ed0087a-cbdd-4fee-83b6-2fad726ff4b8"
      },
      "execution_count": 4,
      "outputs": [
        {
          "output_type": "stream",
          "name": "stdout",
          "text": [
            "Mounted at /gdrive\n"
          ]
        }
      ]
    },
    {
      "cell_type": "code",
      "source": [
        "with open('/gdrive/My Drive/test.txt', 'w') as f:\n",
        "    f.writelines(\"Hello Google Colab!\")"
      ],
      "metadata": {
        "id": "Xmfy-Fgnbk2s"
      },
      "execution_count": 5,
      "outputs": []
    }
  ]
}